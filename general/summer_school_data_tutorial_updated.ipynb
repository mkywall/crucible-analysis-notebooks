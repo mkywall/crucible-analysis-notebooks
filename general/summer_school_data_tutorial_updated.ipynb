{
  "cells": [
    {
      "cell_type": "markdown",
      "metadata": {
        "id": "view-in-github",
        "colab_type": "text"
      },
      "source": [
        "<a href=\"https://colab.research.google.com/github/mkywall/crucible-analysis-notebooks/blob/main/general/summer_school_data_tutorial_updated.ipynb\" target=\"_parent\"><img src=\"https://colab.research.google.com/assets/colab-badge.svg\" alt=\"Open In Colab\"/></a>"
      ]
    },
    {
      "cell_type": "markdown",
      "metadata": {
        "id": "__Y4pqvXUsg0"
      },
      "source": [
        "# Crucible Tutorial\n"
      ]
    },
    {
      "cell_type": "markdown",
      "metadata": {
        "id": "OCDbZ9ny44Y4"
      },
      "source": [
        "## Part 1: Setup\n",
        "- Install the crucible python client\n",
        "- Import packages\n",
        "- Retrieve your personal Crucible API key\n",
        "- Initialize your client"
      ]
    },
    {
      "cell_type": "markdown",
      "metadata": {
        "id": "RBDo9mng5HP7"
      },
      "source": [
        "#### Install the client from GitHub"
      ]
    },
    {
      "cell_type": "code",
      "execution_count": 1,
      "metadata": {
        "id": "pK7EG7WzU948",
        "colab": {
          "base_uri": "https://localhost:8080/"
        },
        "outputId": "284269b6-7657-4c72-b155-5b57343a0f3f"
      },
      "outputs": [
        {
          "output_type": "stream",
          "name": "stdout",
          "text": [
            "Collecting git+https://github.com/MolecularFoundryCrucible/pycrucible.git\n",
            "  Cloning https://github.com/MolecularFoundryCrucible/pycrucible.git to /tmp/pip-req-build-utydqtrt\n",
            "  Running command git clone --filter=blob:none --quiet https://github.com/MolecularFoundryCrucible/pycrucible.git /tmp/pip-req-build-utydqtrt\n",
            "  Resolved https://github.com/MolecularFoundryCrucible/pycrucible.git to commit fa90c2d76e42e93603202fdf3d99f20f21a5522c\n",
            "  Preparing metadata (setup.py) ... \u001b[?25l\u001b[?25hdone\n",
            "Requirement already satisfied: requests>=2.25.0 in /usr/local/lib/python3.11/dist-packages (from pycrucible==1.0.0) (2.32.3)\n",
            "Requirement already satisfied: pytz>=2021.1 in /usr/local/lib/python3.11/dist-packages (from pycrucible==1.0.0) (2025.2)\n",
            "Requirement already satisfied: charset-normalizer<4,>=2 in /usr/local/lib/python3.11/dist-packages (from requests>=2.25.0->pycrucible==1.0.0) (3.4.2)\n",
            "Requirement already satisfied: idna<4,>=2.5 in /usr/local/lib/python3.11/dist-packages (from requests>=2.25.0->pycrucible==1.0.0) (3.10)\n",
            "Requirement already satisfied: urllib3<3,>=1.21.1 in /usr/local/lib/python3.11/dist-packages (from requests>=2.25.0->pycrucible==1.0.0) (2.5.0)\n",
            "Requirement already satisfied: certifi>=2017.4.17 in /usr/local/lib/python3.11/dist-packages (from requests>=2.25.0->pycrucible==1.0.0) (2025.8.3)\n",
            "Building wheels for collected packages: pycrucible\n",
            "  Building wheel for pycrucible (setup.py) ... \u001b[?25l\u001b[?25hdone\n",
            "  Created wheel for pycrucible: filename=pycrucible-1.0.0-py3-none-any.whl size=10700 sha256=2d4fb2eb94306452b05fcbb6bf941658c5e906a4a995b6d644bf8761eb1165d0\n",
            "  Stored in directory: /tmp/pip-ephem-wheel-cache-a1wp9l0e/wheels/58/1a/f4/734a68c25c571f11065799f707aedc75bb4fa9ae9b566023ff\n",
            "Successfully built pycrucible\n",
            "Installing collected packages: pycrucible\n",
            "Successfully installed pycrucible-1.0.0\n"
          ]
        }
      ],
      "source": [
        "!pip install git+https://github.com/MolecularFoundryCrucible/pycrucible.git"
      ]
    },
    {
      "cell_type": "markdown",
      "metadata": {
        "id": "z5kwj7Sb5L5A"
      },
      "source": [
        "#### Import packages"
      ]
    },
    {
      "cell_type": "code",
      "execution_count": 2,
      "metadata": {
        "id": "P1qADdHnUsg3"
      },
      "outputs": [],
      "source": [
        "import os\n",
        "import json\n",
        "import pprint\n",
        "import uuid\n",
        "from typing import List, Dict\n",
        "from datetime import datetime\n",
        "import h5py\n",
        "import numpy as np\n",
        "import matplotlib.pyplot as plt\n",
        "from PIL import Image\n",
        "from pathlib import Path\n",
        "import ipywidgets as widgets\n",
        "from IPython.display import display, clear_output\n",
        "import matplotlib.pyplot as plt\n",
        "\n",
        "from pycrucible import CrucibleClient, SecureInput"
      ]
    },
    {
      "cell_type": "markdown",
      "metadata": {
        "id": "LCeMlmoA5W_V"
      },
      "source": [
        "#### Retrieve your API key\n",
        "\n",
        "In your web browser navigate to https://crucible.lbl.gov/testapi/user_apikey.\n",
        "\n",
        "You will be prompted to login to your ORCID.  Login.\n",
        "\n",
        "Run the cell below and copy your resulting API key into the box!\n",
        "\n",
        "** note: If you do not have an ORCID you can easily create one here: https://orcid.org/register"
      ]
    },
    {
      "cell_type": "code",
      "execution_count": 3,
      "metadata": {
        "id": "CRinTqFl53wM",
        "colab": {
          "base_uri": "https://localhost:8080/",
          "height": 85,
          "referenced_widgets": [
            "54e8bbbd472d475db6ccf3f965181430",
            "795c9adbe1b34197a487bd266a376e4e",
            "eca631e2b218400e86a2dbfcbe09b161",
            "1faff46ed8a7467389591447191413cb",
            "cd48992842cc4d0b9e9300a85d20f8e3",
            "8769cb947305490786e27502b47863d4",
            "d988c9bfe0564b3aa297558408d85674",
            "c61fde4dbdf74ac7becd20dd101e3def",
            "19536f90bf16490e9fa9378f9803a8cf",
            "9742695da95f428389db2450b7a9d006",
            "5e6e2d703d1d4d42946309833430ec4a",
            "03620ee9197d48fdb235f186d6e96ba0",
            "4f1222a152584a45bda8bfd9ca575120"
          ]
        },
        "outputId": "efab624d-0cb9-4b2d-e8e6-6caa37e4db4a"
      },
      "outputs": [
        {
          "output_type": "display_data",
          "data": {
            "text/plain": [
              "VBox(children=(HTML(value='<b>Enter your API key:</b>'), Password(placeholder='Enter secret here', style=Descr…"
            ],
            "application/vnd.jupyter.widget-view+json": {
              "version_major": 2,
              "version_minor": 0,
              "model_id": "54e8bbbd472d475db6ccf3f965181430"
            }
          },
          "metadata": {}
        },
        {
          "output_type": "execute_result",
          "data": {
            "text/plain": [
              "<pycrucible.pycrucible.SecureInput at 0x7adc47f45050>"
            ]
          },
          "metadata": {},
          "execution_count": 3
        }
      ],
      "source": [
        "SecureInput(description = \"Enter your API key:\", var_name = 'CRUCIBLE_API_KEY')"
      ]
    },
    {
      "cell_type": "markdown",
      "metadata": {
        "id": "aJ-kL4_1Usg4"
      },
      "source": [
        "#### Initialize the client"
      ]
    },
    {
      "cell_type": "code",
      "execution_count": 7,
      "metadata": {
        "id": "lwleG71nUsg4",
        "colab": {
          "base_uri": "https://localhost:8080/"
        },
        "outputId": "946edba4-02f5-48f3-886c-37a6c1b398eb"
      },
      "outputs": [
        {
          "output_type": "stream",
          "name": "stdout",
          "text": [
            "Crucible client initialized successfully!\n"
          ]
        }
      ],
      "source": [
        "API_URL = \"https://crucible.lbl.gov/testapi\"\n",
        "API_KEY = os.environ.get(\"CRUCIBLE_API_KEY\")\n",
        "\n",
        "# Initialize the client\n",
        "client = CrucibleClient(API_URL, API_KEY)\n",
        "print(\"Crucible client initialized successfully!\")"
      ]
    },
    {
      "cell_type": "markdown",
      "metadata": {
        "id": "Ajyxgack6P7s",
        "jp-MarkdownHeadingCollapsed": true
      },
      "source": [
        "## Part 2: Use the client to work with a batch of perovskite data\n",
        "For this demo we will be using data generated for a batch of perovskite wafers generated by Yi-Ru.  The batch is named `S-pMeMBAI-pre-2` and has the unique id: `0t3h7ymbm5s27000z6tt82zvx4`\n",
        "\n"
      ]
    },
    {
      "cell_type": "markdown",
      "metadata": {
        "id": "0HKTnghd7VBs"
      },
      "source": [
        "##### Query the Data"
      ]
    },
    {
      "cell_type": "code",
      "execution_count": 8,
      "metadata": {
        "id": "V9PQoNS363gq"
      },
      "outputs": [],
      "source": [
        "# set the batch_id as a variable\n",
        "batch_id = '0t3h7ymbm5s27000z6tt82zvx4'"
      ]
    },
    {
      "cell_type": "code",
      "execution_count": 9,
      "metadata": {
        "id": "Sg0goib666wS",
        "collapsed": true,
        "colab": {
          "base_uri": "https://localhost:8080/"
        },
        "outputId": "b55e28d2-5de7-4e7f-bbf0-ee4ec642195b"
      },
      "outputs": [
        {
          "output_type": "execute_result",
          "data": {
            "text/plain": [
              "[{'id': 407,\n",
              "  'owner_orcid': '0009-0007-5583-5602',\n",
              "  'date_created': None,\n",
              "  'unique_id': '0t4tndz6pxz4b000dp2sfr75gw',\n",
              "  'sample_name': '1',\n",
              "  'owner_user_id': 6,\n",
              "  'description': None},\n",
              " {'id': 408,\n",
              "  'owner_orcid': '0009-0007-5583-5602',\n",
              "  'date_created': None,\n",
              "  'unique_id': '0t4tne5jsnsz7000qqxdg8m57g',\n",
              "  'sample_name': '2',\n",
              "  'owner_user_id': 6,\n",
              "  'description': None},\n",
              " {'id': 411,\n",
              "  'owner_orcid': '0009-0007-5583-5602',\n",
              "  'date_created': None,\n",
              "  'unique_id': '0t4tnjje2nr8d000dyhs9zy6cc',\n",
              "  'sample_name': '5',\n",
              "  'owner_user_id': 6,\n",
              "  'description': None},\n",
              " {'id': 414,\n",
              "  'owner_orcid': '0009-0007-5583-5602',\n",
              "  'date_created': None,\n",
              "  'unique_id': '0t4tnk8rxhww1000g5jd1datbw',\n",
              "  'sample_name': '9',\n",
              "  'owner_user_id': 6,\n",
              "  'description': None},\n",
              " {'id': 415,\n",
              "  'owner_orcid': '0009-0007-5583-5602',\n",
              "  'date_created': None,\n",
              "  'unique_id': '0t4tnkfvp9w470005acdwvm384',\n",
              "  'sample_name': '8',\n",
              "  'owner_user_id': 6,\n",
              "  'description': None},\n",
              " {'id': 409,\n",
              "  'owner_orcid': '0009-0007-5583-5602',\n",
              "  'date_created': None,\n",
              "  'unique_id': '0t4tnj3q0dsmb0003cdvw9md0w',\n",
              "  'sample_name': '3',\n",
              "  'owner_user_id': 6,\n",
              "  'description': None},\n",
              " {'id': 410,\n",
              "  'owner_orcid': '0009-0007-5583-5602',\n",
              "  'date_created': None,\n",
              "  'unique_id': '0t4tnjavnhww5000kknaz03sg8',\n",
              "  'sample_name': '4',\n",
              "  'owner_user_id': 6,\n",
              "  'description': None},\n",
              " {'id': 412,\n",
              "  'owner_orcid': '0009-0007-5583-5602',\n",
              "  'date_created': None,\n",
              "  'unique_id': '0t4tnjsp0sr1n000zd8mpx3ep8',\n",
              "  'sample_name': '6',\n",
              "  'owner_user_id': 6,\n",
              "  'description': None},\n",
              " {'id': 413,\n",
              "  'owner_orcid': '0009-0007-5583-5602',\n",
              "  'date_created': None,\n",
              "  'unique_id': '0t4tnk199dvgq000887t4a4an4',\n",
              "  'sample_name': '7',\n",
              "  'owner_user_id': 6,\n",
              "  'description': None}]"
            ]
          },
          "metadata": {},
          "execution_count": 9
        }
      ],
      "source": [
        "# list all of the samples associated with this batch\n",
        "client.list_samples(parent_id = batch_id)"
      ]
    },
    {
      "cell_type": "code",
      "execution_count": 10,
      "metadata": {
        "id": "GNnX2tqV6-zS",
        "collapsed": true,
        "colab": {
          "base_uri": "https://localhost:8080/"
        },
        "outputId": "810d34c5-bdc9-49f1-c083-faacfab190a8"
      },
      "outputs": [
        {
          "output_type": "execute_result",
          "data": {
            "text/plain": [
              "[{'instrument_id': 14,\n",
              "  'json_link': None,\n",
              "  'unique_id': '0t4tndsdqsxrb000jwjd070a68',\n",
              "  'source_folder': 'C:/Users/lab/Documents/foundry_scope/SpinBot/Yi-Ru/S-pMeMBAI-pre-2',\n",
              "  'sha256_hash_file_to_upload': '3b4fc2c52f0a1b09634ac0c3cc7734de194fcb4365c4135603378d104227c7aa',\n",
              "  'public': False,\n",
              "  'instrument_name': 'SpinBot',\n",
              "  'id': 88582,\n",
              "  'dataset_name': 'yrliu98_S-pMeMBAI-pre-2_1_1_run3_spec_run',\n",
              "  'creation_time': '2025-07-11T17:13:22.380824',\n",
              "  'file_to_upload': 'api-uploads/drive/Shareddrives/robot summer school/summer-school-sample-data/cbox/yrliu98_S-pMeMBAI-pre-2_1_1_run3_spec_run.h5',\n",
              "  'size': 35926936,\n",
              "  'owner_user_id': 1,\n",
              "  'data_format': 'ScopeFoundryH5',\n",
              "  'owner_orcid': '0009-0001-9493-2006',\n",
              "  'measurement': 'spec_run',\n",
              "  'project_id': 'MFUSER_yrliu98',\n",
              "  'session_name': 'S-pMeMBAI-pre-2'},\n",
              " {'instrument_id': 14,\n",
              "  'json_link': None,\n",
              "  'unique_id': '0t4tne0q1swpx000y49c2y78t4',\n",
              "  'source_folder': 'C:/Users/lab/Documents/foundry_scope/SpinBot/Yi-Ru/S-pMeMBAI-pre-2',\n",
              "  'sha256_hash_file_to_upload': '9b078bef33d108bb429a3ddaa09b0f6b4f95324c4dfa49487d7e801ed690e3b9',\n",
              "  'public': False,\n",
              "  'instrument_name': 'SpinBot',\n",
              "  'id': 88583,\n",
              "  'dataset_name': 'yrliu98_S-pMeMBAI-pre-2_1_2_run1_spec_run',\n",
              "  'creation_time': '2025-07-11T17:18:02.581903',\n",
              "  'file_to_upload': 'api-uploads/drive/Shareddrives/robot summer school/summer-school-sample-data/cbox/yrliu98_S-pMeMBAI-pre-2_1_2_run1_spec_run.h5',\n",
              "  'size': 35926936,\n",
              "  'owner_user_id': 1,\n",
              "  'data_format': 'ScopeFoundryH5',\n",
              "  'owner_orcid': '0009-0001-9493-2006',\n",
              "  'measurement': 'spec_run',\n",
              "  'project_id': 'MFUSER_yrliu98',\n",
              "  'session_name': 'S-pMeMBAI-pre-2'},\n",
              " {'instrument_id': 14,\n",
              "  'json_link': None,\n",
              "  'unique_id': '0t4tnhxxx9zhn0005mxgmgm0p8',\n",
              "  'source_folder': 'C:/Users/lab/Documents/foundry_scope/SpinBot/Yi-Ru/S-pMeMBAI-pre-2',\n",
              "  'sha256_hash_file_to_upload': 'c1ed3b6fe9a4ab3f6e77c75f70056d836f485f3412521a1ac63e95a4f37ad3c0',\n",
              "  'public': False,\n",
              "  'instrument_name': 'SpinBot',\n",
              "  'id': 88584,\n",
              "  'dataset_name': 'yrliu98_S-pMeMBAI-pre-2_1_3_run1_spec_run',\n",
              "  'creation_time': '2025-07-11T17:22:42.752677',\n",
              "  'file_to_upload': 'api-uploads/drive/Shareddrives/robot summer school/summer-school-sample-data/cbox/yrliu98_S-pMeMBAI-pre-2_1_3_run1_spec_run.h5',\n",
              "  'size': 35926936,\n",
              "  'owner_user_id': 1,\n",
              "  'data_format': 'ScopeFoundryH5',\n",
              "  'owner_orcid': '0009-0001-9493-2006',\n",
              "  'measurement': 'spec_run',\n",
              "  'project_id': 'MFUSER_yrliu98',\n",
              "  'session_name': 'S-pMeMBAI-pre-2'},\n",
              " {'instrument_id': 14,\n",
              "  'json_link': None,\n",
              "  'unique_id': '0t4tnj5hhnz6f0004qj397t3q4',\n",
              "  'source_folder': 'C:/Users/lab/Documents/foundry_scope/SpinBot/Yi-Ru/S-pMeMBAI-pre-2',\n",
              "  'sha256_hash_file_to_upload': '0b79610355cabbb41b17521016548447c0915804d23a200aaa614f7fee038855',\n",
              "  'public': False,\n",
              "  'instrument_name': 'SpinBot',\n",
              "  'id': 88585,\n",
              "  'dataset_name': 'yrliu98_S-pMeMBAI-pre-2_1_4_run1_spec_run',\n",
              "  'creation_time': '2025-07-11T17:27:18.861393',\n",
              "  'file_to_upload': 'api-uploads/drive/Shareddrives/robot summer school/summer-school-sample-data/cbox/yrliu98_S-pMeMBAI-pre-2_1_4_run1_spec_run.h5',\n",
              "  'size': 35926936,\n",
              "  'owner_user_id': 1,\n",
              "  'data_format': 'ScopeFoundryH5',\n",
              "  'owner_orcid': '0009-0001-9493-2006',\n",
              "  'measurement': 'spec_run',\n",
              "  'project_id': 'MFUSER_yrliu98',\n",
              "  'session_name': 'S-pMeMBAI-pre-2'},\n",
              " {'instrument_id': 14,\n",
              "  'json_link': None,\n",
              "  'unique_id': '0t4tnjd0psta30000pwmaxby9w',\n",
              "  'source_folder': 'C:/Users/lab/Documents/foundry_scope/SpinBot/Yi-Ru/S-pMeMBAI-pre-2',\n",
              "  'sha256_hash_file_to_upload': '1c24ed7fd4e7a12d11143daced69932af94be82771bf0b290b66b4fa859cb00e',\n",
              "  'public': False,\n",
              "  'instrument_name': 'SpinBot',\n",
              "  'id': 88586,\n",
              "  'dataset_name': 'yrliu98_S-pMeMBAI-pre-2_1_5_run1_spec_run',\n",
              "  'creation_time': '2025-07-11T17:32:36.916564',\n",
              "  'file_to_upload': 'api-uploads/drive/Shareddrives/robot summer school/summer-school-sample-data/cbox/yrliu98_S-pMeMBAI-pre-2_1_5_run1_spec_run.h5',\n",
              "  'size': 35926936,\n",
              "  'owner_user_id': 1,\n",
              "  'data_format': 'ScopeFoundryH5',\n",
              "  'owner_orcid': '0009-0001-9493-2006',\n",
              "  'measurement': 'spec_run',\n",
              "  'project_id': 'MFUSER_yrliu98',\n",
              "  'session_name': 'S-pMeMBAI-pre-2'},\n",
              " {'instrument_id': 14,\n",
              "  'json_link': None,\n",
              "  'unique_id': '0t4tnjmf3swsv000p9z2qqnxcg',\n",
              "  'source_folder': 'C:/Users/lab/Documents/foundry_scope/SpinBot/Yi-Ru/S-pMeMBAI-pre-2',\n",
              "  'sha256_hash_file_to_upload': 'b0cbac4ef26cc00f9b85dfe4b41319b5d0be09dfcf89d0b5df582910aba749da',\n",
              "  'public': False,\n",
              "  'instrument_name': 'SpinBot',\n",
              "  'id': 88587,\n",
              "  'dataset_name': 'yrliu98_S-pMeMBAI-pre-2_1_6_run1_spec_run',\n",
              "  'creation_time': '2025-07-11T17:38:09.809138',\n",
              "  'file_to_upload': 'api-uploads/drive/Shareddrives/robot summer school/summer-school-sample-data/cbox/yrliu98_S-pMeMBAI-pre-2_1_6_run1_spec_run.h5',\n",
              "  'size': 35926936,\n",
              "  'owner_user_id': 1,\n",
              "  'data_format': 'ScopeFoundryH5',\n",
              "  'owner_orcid': '0009-0001-9493-2006',\n",
              "  'measurement': 'spec_run',\n",
              "  'project_id': 'MFUSER_yrliu98',\n",
              "  'session_name': 'S-pMeMBAI-pre-2'},\n",
              " {'instrument_id': 14,\n",
              "  'json_link': None,\n",
              "  'unique_id': '0t4tnjvymsy1h0008n8nj6b9ar',\n",
              "  'source_folder': 'C:/Users/lab/Documents/foundry_scope/SpinBot/Yi-Ru/S-pMeMBAI-pre-2',\n",
              "  'sha256_hash_file_to_upload': 'bdc36ab299fdd529aaa501c9342a5c16b69ba0b4690fedd1d1811cd49424a480',\n",
              "  'public': False,\n",
              "  'instrument_name': 'SpinBot',\n",
              "  'id': 88588,\n",
              "  'dataset_name': 'yrliu98_S-pMeMBAI-pre-2_1_7_run1_spec_run',\n",
              "  'creation_time': '2025-07-11T17:42:54.159746',\n",
              "  'file_to_upload': 'api-uploads/drive/Shareddrives/robot summer school/summer-school-sample-data/cbox/yrliu98_S-pMeMBAI-pre-2_1_7_run1_spec_run.h5',\n",
              "  'size': 35926936,\n",
              "  'owner_user_id': 1,\n",
              "  'data_format': 'ScopeFoundryH5',\n",
              "  'owner_orcid': '0009-0001-9493-2006',\n",
              "  'measurement': 'spec_run',\n",
              "  'project_id': 'MFUSER_yrliu98',\n",
              "  'session_name': 'S-pMeMBAI-pre-2'},\n",
              " {'instrument_id': 14,\n",
              "  'json_link': None,\n",
              "  'unique_id': '0t4tnk3h39vkh000jt25cbk71r',\n",
              "  'source_folder': 'C:/Users/lab/Documents/foundry_scope/SpinBot/Yi-Ru/S-pMeMBAI-pre-2',\n",
              "  'sha256_hash_file_to_upload': '1bfaf3b3049bc3d75ad21b8050e289a929f7ab6464d3c3ea2f6c59b96e4ebbfa',\n",
              "  'public': False,\n",
              "  'instrument_name': 'SpinBot',\n",
              "  'id': 88589,\n",
              "  'dataset_name': 'yrliu98_S-pMeMBAI-pre-2_1_9_run1_spec_run',\n",
              "  'creation_time': '2025-07-11T18:05:05.633354',\n",
              "  'file_to_upload': 'api-uploads/drive/Shareddrives/robot summer school/summer-school-sample-data/cbox/yrliu98_S-pMeMBAI-pre-2_1_9_run1_spec_run.h5',\n",
              "  'size': 35926936,\n",
              "  'owner_user_id': 1,\n",
              "  'data_format': 'ScopeFoundryH5',\n",
              "  'owner_orcid': '0009-0001-9493-2006',\n",
              "  'measurement': 'spec_run',\n",
              "  'project_id': 'MFUSER_yrliu98',\n",
              "  'session_name': 'S-pMeMBAI-pre-2'},\n",
              " {'instrument_id': 14,\n",
              "  'json_link': None,\n",
              "  'unique_id': '0t4tnkawshrcz000235d01sxqw',\n",
              "  'source_folder': 'C:/Users/lab/Documents/foundry_scope/SpinBot/Yi-Ru/S-pMeMBAI-pre-2',\n",
              "  'sha256_hash_file_to_upload': '7f5d990caf7fc4c3ad6b1ba598897fcaf2a2592e6bc5038e9f3e72327d58e0dc',\n",
              "  'public': False,\n",
              "  'instrument_name': 'SpinBot',\n",
              "  'id': 88590,\n",
              "  'dataset_name': 'yrliu98_S-pMeMBAI-pre-2_1_8_run1_spec_run',\n",
              "  'creation_time': '2025-07-11T17:58:38.214595',\n",
              "  'file_to_upload': 'api-uploads/drive/Shareddrives/robot summer school/summer-school-sample-data/cbox/yrliu98_S-pMeMBAI-pre-2_1_8_run1_spec_run.h5',\n",
              "  'size': 35926936,\n",
              "  'owner_user_id': 1,\n",
              "  'data_format': 'ScopeFoundryH5',\n",
              "  'owner_orcid': '0009-0001-9493-2006',\n",
              "  'measurement': 'spec_run',\n",
              "  'project_id': 'MFUSER_yrliu98',\n",
              "  'session_name': 'S-pMeMBAI-pre-2'}]"
            ]
          },
          "metadata": {},
          "execution_count": 10
        }
      ],
      "source": [
        "# list all of the datasets associated with this batch\n",
        "client.list_datasets(sample_id = batch_id)"
      ]
    },
    {
      "cell_type": "markdown",
      "metadata": {
        "id": "wOwOJYSv7YUZ"
      },
      "source": [
        "##### Download data files\n",
        "\n",
        "After running the following cell, you can to navigate to the file system on the right by clicking the folder icon.  You should see a folder titled \"crucible_downloads\" that will contain all of the files you just downloaded."
      ]
    },
    {
      "cell_type": "code",
      "execution_count": 11,
      "metadata": {
        "id": "UQQrxcl37bqI",
        "colab": {
          "base_uri": "https://localhost:8080/"
        },
        "outputId": "a6519aff-df82-4c19-afa9-684eb9f7b66a"
      },
      "outputs": [
        {
          "output_type": "stream",
          "name": "stdout",
          "text": [
            "{'creation_time': '2025-07-11T17:13:22.380824',\n",
            " 'data_format': 'ScopeFoundryH5',\n",
            " 'dataset_name': 'yrliu98_S-pMeMBAI-pre-2_1_1_run3_spec_run',\n",
            " 'file_to_upload': 'api-uploads/drive/Shareddrives/robot summer '\n",
            "                   'school/summer-school-sample-data/cbox/yrliu98_S-pMeMBAI-pre-2_1_1_run3_spec_run.h5',\n",
            " 'id': 88582,\n",
            " 'instrument_id': 14,\n",
            " 'instrument_name': 'SpinBot',\n",
            " 'json_link': None,\n",
            " 'measurement': 'spec_run',\n",
            " 'owner_orcid': '0009-0001-9493-2006',\n",
            " 'owner_user_id': 1,\n",
            " 'project_id': 'MFUSER_yrliu98',\n",
            " 'public': False,\n",
            " 'session_name': 'S-pMeMBAI-pre-2',\n",
            " 'sha256_hash_file_to_upload': '3b4fc2c52f0a1b09634ac0c3cc7734de194fcb4365c4135603378d104227c7aa',\n",
            " 'size': 35926936,\n",
            " 'source_folder': 'C:/Users/lab/Documents/foundry_scope/SpinBot/Yi-Ru/S-pMeMBAI-pre-2',\n",
            " 'unique_id': '0t4tndsdqsxrb000jwjd070a68'}\n",
            "downloaded\n",
            "{'creation_time': '2025-07-11T17:18:02.581903',\n",
            " 'data_format': 'ScopeFoundryH5',\n",
            " 'dataset_name': 'yrliu98_S-pMeMBAI-pre-2_1_2_run1_spec_run',\n",
            " 'file_to_upload': 'api-uploads/drive/Shareddrives/robot summer '\n",
            "                   'school/summer-school-sample-data/cbox/yrliu98_S-pMeMBAI-pre-2_1_2_run1_spec_run.h5',\n",
            " 'id': 88583,\n",
            " 'instrument_id': 14,\n",
            " 'instrument_name': 'SpinBot',\n",
            " 'json_link': None,\n",
            " 'measurement': 'spec_run',\n",
            " 'owner_orcid': '0009-0001-9493-2006',\n",
            " 'owner_user_id': 1,\n",
            " 'project_id': 'MFUSER_yrliu98',\n",
            " 'public': False,\n",
            " 'session_name': 'S-pMeMBAI-pre-2',\n",
            " 'sha256_hash_file_to_upload': '9b078bef33d108bb429a3ddaa09b0f6b4f95324c4dfa49487d7e801ed690e3b9',\n",
            " 'size': 35926936,\n",
            " 'source_folder': 'C:/Users/lab/Documents/foundry_scope/SpinBot/Yi-Ru/S-pMeMBAI-pre-2',\n",
            " 'unique_id': '0t4tne0q1swpx000y49c2y78t4'}\n",
            "downloaded\n"
          ]
        }
      ],
      "source": [
        "batch_datasets = client.list_datasets(sample_id = batch_id)[0:2]\n",
        "for ds in batch_datasets:\n",
        "    pprint.pprint(ds)\n",
        "    try:\n",
        "      client.download_dataset(dsid = ds['unique_id'])\n",
        "      print('downloaded')\n",
        "    except Exception as err:\n",
        "      print(err)"
      ]
    },
    {
      "cell_type": "markdown",
      "metadata": {
        "id": "ZaLEaNny70iC"
      },
      "source": [
        "## Part 3: Working with ScopeFoundry hdf5 files"
      ]
    },
    {
      "cell_type": "markdown",
      "metadata": {
        "id": "8CLniWAa622z"
      },
      "source": [
        "### Open the file and get your bearings"
      ]
    },
    {
      "cell_type": "code",
      "execution_count": 12,
      "metadata": {
        "id": "K_5IvGWA622z"
      },
      "outputs": [],
      "source": [
        "# Choose a file to work with\n",
        "sample_file = 'crucible-downloads/yrliu98_S-pMeMBAI-pre-2_1_1_run3_spec_run.h5'"
      ]
    },
    {
      "cell_type": "code",
      "execution_count": 13,
      "metadata": {
        "id": "m6swDWG3622z",
        "colab": {
          "base_uri": "https://localhost:8080/"
        },
        "outputId": "16fb6cd2-523b-4748-f172-f76205f583e0"
      },
      "outputs": [
        {
          "output_type": "stream",
          "name": "stdout",
          "text": [
            "<KeysViewHDF5 ['app', 'hardware', 'measurement']>\n",
            "<KeysViewHDF5 ['ScopeFoundry_version', 'time_id', 'unique_id', 'uuid']>\n",
            "app\n",
            "hardware\n",
            "measurement\n"
          ]
        }
      ],
      "source": [
        "# Opening the file\n",
        "with h5py.File(sample_file, 'r') as f:\n",
        "  # groups within the file object\n",
        "  print(f.keys())\n",
        "\n",
        "  # attributes of the file object (the file object is the \"root group\")\n",
        "  print(f.attrs.keys())\n",
        "\n",
        "  # every group has a name (the name is the key)\n",
        "  for group_name in f:\n",
        "    print(group_name)"
      ]
    },
    {
      "cell_type": "code",
      "execution_count": 14,
      "metadata": {
        "id": "cFK80HUN622z",
        "colab": {
          "base_uri": "https://localhost:8080/"
        },
        "outputId": "cf7a66d5-d63a-469a-f462-bc5f3dd1f9f1"
      },
      "outputs": [
        {
          "output_type": "stream",
          "name": "stdout",
          "text": [
            "['settings']\n",
            "['ScopeFoundry_type', 'name']\n",
            "\n",
            "\n",
            "app settings: \n",
            "data_fname_format {timestamp:%y%m%d_%H%M%S}_{measurement.name}.{ext}\n",
            "sample 1\n",
            "save_dir C:/Users/lab/Documents/foundry_scope/SpinBot/Yi-Ru/S-pMeMBAI-pre-2\n"
          ]
        }
      ],
      "source": [
        "# The App Group\n",
        "\n",
        "with h5py.File(sample_file, 'r') as f:\n",
        "  app = f['app']\n",
        "\n",
        "  # groups within the app group\n",
        "  print(list(app.keys()))\n",
        "\n",
        "  # attributes of the app group\n",
        "  print(list(app.attrs.keys()))\n",
        "\n",
        "  # print the settings group attributes for the app\n",
        "  print(\"\\n\\napp settings: \")\n",
        "  [print(k,v) for k,v in list(app['settings'].attrs.items())]"
      ]
    },
    {
      "cell_type": "code",
      "execution_count": 15,
      "metadata": {
        "id": "UjmuXW-U622z",
        "colab": {
          "base_uri": "https://localhost:8080/"
        },
        "outputId": "2b09fb42-890c-45e8-8647-ef7555b0d7fb"
      },
      "outputs": [
        {
          "output_type": "stream",
          "name": "stdout",
          "text": [
            "['cbox_stage', 'enviromon', 'mf_crucible_spinbot', 'pl_spec', 'spinbot_comm', 'tec_8way_plc', 'wl_spec', 'x_under_stage', 'y_over_stage', 'zwo_camera']\n",
            "['ScopeFoundry_type']\n"
          ]
        }
      ],
      "source": [
        "# The Hardware Group\n",
        "\n",
        "with h5py.File(sample_file, 'r') as f:\n",
        "  hw = f['hardware']\n",
        "\n",
        "  # groups within the hw group\n",
        "  print(list(hw.keys()))\n",
        "\n",
        "  # attributes of the hw group\n",
        "  print(list(hw.attrs.keys()))"
      ]
    },
    {
      "cell_type": "code",
      "execution_count": null,
      "metadata": {
        "id": "73qvO3DS6220"
      },
      "outputs": [],
      "source": [
        "# The Measurement Group\n",
        "\n",
        "with h5py.File(sample_file, 'r') as f:\n",
        "  M = f['measurement']\n",
        "\n",
        "  # groups within the measurement group\n",
        "  print(list(M.keys()))\n",
        "\n",
        "  # attributes of the measurement group\n",
        "  print(list(M.attrs.keys()))\n",
        "\n",
        "  # Look at the measurement sub group\n",
        "  # Note that you can keep extending out key values for groups or use a file system like notation\n",
        "  print(list(f['measurement']['spec_run'].keys()))\n",
        "  print(list(f['measurement/spec_run'].keys()))\n",
        "\n",
        "  # Each of the values printed is a Dataset Object that can be accessed as a numpy array\n",
        "  arr = np.array(f['measurement/spec_run/wl_spectra'])\n",
        "  print(arr[0:2])"
      ]
    },
    {
      "cell_type": "markdown",
      "metadata": {
        "id": "S8pWckmd6220"
      },
      "source": [
        "### Recurse the file systematically with the ```visititems``` function.\n",
        "Instead of manually recursing the file, we can define a function and pass it to visititems which will recursively call the function on each of the objects in the h5file"
      ]
    },
    {
      "cell_type": "code",
      "execution_count": null,
      "metadata": {
        "id": "hDXBlM7l6220"
      },
      "outputs": [],
      "source": [
        "def explore_h5_structure(name, obj):\n",
        "    indent = \"  \" * name.count('/')\n",
        "    if isinstance(obj, h5py.Group):\n",
        "        print(f\"{indent}{name}/ (Group)\")\n",
        "    elif isinstance(obj, h5py.Dataset):\n",
        "        print(f\"{indent}{name} (Dataset) - Shape: {obj.shape}, Type: {obj.dtype}\")\n",
        "\n",
        "with h5py.File(sample_file, 'r') as f:\n",
        "    f.visititems(explore_h5_structure)\n"
      ]
    },
    {
      "cell_type": "markdown",
      "metadata": {
        "id": "0gyEdMmF6220"
      },
      "source": [
        "### Extract and plot the PL spectra"
      ]
    },
    {
      "cell_type": "code",
      "execution_count": null,
      "metadata": {
        "id": "L7GXcFEP6220"
      },
      "outputs": [],
      "source": [
        "with h5py.File(sample_file, 'r') as h5file:\n",
        "\n",
        "    # extract the corrected PL spectra as an array\n",
        "    pl_spectra = np.array(h5file['measurement/spec_run/pl_spectra_corrected'])\n",
        "\n",
        "    # determine how many spectra were collected\n",
        "    dims = pl_spectra.shape\n",
        "\n",
        "    # extract the wavelengths as an array\n",
        "    wavelengths = np.array(h5file['measurement/spec_run/pl_wls'])\n",
        "\n",
        "    # create the plot\n",
        "    fig, ax = plt.subplots(figsize=(10, 6))\n",
        "\n",
        "    # for each spectra, plot the line\n",
        "    for i in range(0, dims[0]):\n",
        "        ax.plot(wavelengths, pl_spectra[i], label=f\"Spectrum {i+1}\", linewidth=2, alpha=0.8)\n",
        "\n",
        "    # formatting\n",
        "    ax.set_xlabel('Wavelength (nm)', fontsize=12)\n",
        "    ax.set_ylabel('Intensity', fontsize=12)\n",
        "    ax.legend(bbox_to_anchor=(1.05, 1), loc='upper left')\n",
        "    ax.grid(True, alpha=0.3)\n",
        "    plt.tight_layout()"
      ]
    },
    {
      "cell_type": "markdown",
      "metadata": {
        "id": "XMhaYekF6220"
      },
      "source": [
        "### Extract and plot the UV-vis spectra"
      ]
    },
    {
      "cell_type": "code",
      "execution_count": null,
      "metadata": {
        "id": "QQ_n1beB6220"
      },
      "outputs": [],
      "source": [
        "with h5py.File(sample_file, 'r') as h5file:\n",
        "\n",
        "    # extract the corrected PL spectra as an array\n",
        "    wl_spectra = np.array(h5file['measurement/spec_run/wl_spectra_corrected'])\n",
        "\n",
        "    # determine how many spectra were collected\n",
        "    dims = wl_spectra.shape\n",
        "\n",
        "    # extract the wavelengths as an array\n",
        "    wavelengths = np.array(h5file['measurement/spec_run/wl_wls'])\n",
        "\n",
        "    # create the plot\n",
        "    fig, ax = plt.subplots(figsize=(10, 6))\n",
        "\n",
        "    # for each spectra, plot the line\n",
        "    for i in range(0, dims[0]):\n",
        "        ax.plot(wavelengths, wl_spectra[i], label=f\"Spectrum {i+1}\", linewidth=2, alpha=0.8)\n",
        "\n",
        "    # formatting\n",
        "    ax.set_xlabel('Wavelength (nm)', fontsize=12)\n",
        "    ax.set_ylabel('Intensity', fontsize=12)\n",
        "    ax.set_ylim(0,1)\n",
        "    ax.legend(bbox_to_anchor=(1.05, 1), loc='upper left')\n",
        "    ax.grid(True, alpha=0.3)\n",
        "    plt.tight_layout()"
      ]
    },
    {
      "cell_type": "markdown",
      "metadata": {
        "id": "s7BqcD1Q6220"
      },
      "source": [
        "### Extract and display the sample image"
      ]
    },
    {
      "cell_type": "code",
      "execution_count": null,
      "metadata": {
        "id": "TDJRmqhy6220"
      },
      "outputs": [],
      "source": [
        "with h5py.File(sample_file, 'r') as h5file:\n",
        "\n",
        "    # extract the image\n",
        "    imarray = np.array(h5file['measurement/spec_run/adj_photo'])\n",
        "\n",
        "    # create the plot\n",
        "    fig, ax = plt.subplots(figsize=(8, 6))\n",
        "    ax.imshow(imarray, cmap = 'grey')\n",
        "    ax.set_title('Sample Photo', fontsize=14, fontweight='bold')\n",
        "    ax.axis('off')"
      ]
    },
    {
      "cell_type": "markdown",
      "metadata": {
        "id": "2Qmc8y2I6220"
      },
      "source": [
        "### Scale this to explore the whole batch"
      ]
    },
    {
      "cell_type": "markdown",
      "metadata": {
        "id": "zYj4Rtuf6220"
      },
      "source": [
        "#### Define functions for extracting the data and creating the plots"
      ]
    },
    {
      "cell_type": "code",
      "execution_count": 26,
      "metadata": {
        "id": "Opf7yqQkIdnU"
      },
      "outputs": [],
      "source": [
        "def display_plots_by_type(plot_type):\n",
        "    \"\"\"Display all samples for a specific plot type\"\"\"\n",
        "    with output:\n",
        "        clear_output(wait=True)\n",
        "\n",
        "        # Find all samples that have this plot type\n",
        "        samples_with_plot = []\n",
        "        for ds in datasets:\n",
        "            with h5py.File(ds) as f:\n",
        "                M = f['measurement/spec_run']\n",
        "                M_keys = list(M.keys())\n",
        "                if plot_type in M_keys:\n",
        "                    samples_with_plot.append(ds)\n",
        "\n",
        "        n_samples = len(samples_with_plot)\n",
        "        cols = min(3, n_samples)\n",
        "        rows = (n_samples + cols - 1) // cols\n",
        "\n",
        "        fig, axes = plt.subplots(rows, cols, figsize=(5*cols, 4*rows))\n",
        "\n",
        "        # Handle single row/column cases\n",
        "        if rows == 1 and cols == 1:\n",
        "            axes = [axes]\n",
        "        elif rows == 1 or cols == 1:\n",
        "            axes = axes.flatten() if hasattr(axes, 'flatten') else [axes]\n",
        "        else:\n",
        "            axes = axes.flatten()\n",
        "\n",
        "        # Plot each sample\n",
        "        for i, ds_file in enumerate(samples_with_plot):\n",
        "            ax = axes[i]\n",
        "            ds_name = os.path.basename(ds_file).split('.')[0]\n",
        "            if plot_type == 'adj_photo':\n",
        "                # For photo data, we need to extract the image data\n",
        "                try:\n",
        "                    with h5py.File(ds_file) as f:\n",
        "                        imarray = np.array(f[f'measurement/spec_run/{plot_type}'])\n",
        "\n",
        "                    ax.imshow(imarray, cmap = 'grey')\n",
        "                    ax.set_title(ds_name, fontsize=11)\n",
        "                    ax.axis('off')\n",
        "\n",
        "                except Exception as e:\n",
        "                    ax.text(0.5, 0.5, f'Error displaying\\n {ds_name}',\n",
        "                           ha='center', va='center', transform=ax.transAxes)\n",
        "                    ax.set_title(f'{ds_name}', fontsize=12)\n",
        "            else:\n",
        "                try:\n",
        "                  with h5py.File(ds_file, 'r') as h5file:\n",
        "                    M = h5file[f\"measurement/spec_run\"]\n",
        "\n",
        "                    if len(M[plot_type]) > 0:\n",
        "                      wl_key = plot_type.split(\"_\")[0] + \"_wls\"\n",
        "                      spectra = np.array(M[plot_type])\n",
        "                      dims = spectra.shape\n",
        "\n",
        "                      wls = np.array(M[wl_key])\n",
        "\n",
        "                      for i in range(0, dims[0]):\n",
        "                          ax.plot(wls, spectra[i], label=f\"Spectrum {i+1}\", linewidth=2, alpha=0.8)\n",
        "\n",
        "                      ax.set_xlabel('Wavelength (nm)', fontsize=12)\n",
        "                      ax.set_ylabel('Intensity', fontsize=12)\n",
        "\n",
        "                      if 'wl' in plot_type:\n",
        "                          ax.set_ylim(0,1)\n",
        "\n",
        "                      ax.set_title(ds_name, fontsize=11)\n",
        "                      ax.legend(bbox_to_anchor=(1.05, 1), loc='upper left')\n",
        "                      ax.grid(True, alpha=0.3)\n",
        "                      plt.tight_layout()\n",
        "\n",
        "\n",
        "                except Exception as e:\n",
        "                    ax.text(0.5, 0.5, f'Error displaying\\n {ds_name}',\n",
        "                           ha='center', va='center', transform=ax.transAxes)\n",
        "                    ax.set_title(f'{ds_name}', fontsize=12)\n",
        "\n",
        "        # Hide unused subplots\n",
        "        for i in range(n_samples, len(axes)):\n",
        "            axes[i].set_visible(False)\n",
        "\n",
        "        plt.tight_layout()\n",
        "        plt.show()"
      ]
    },
    {
      "cell_type": "markdown",
      "metadata": {
        "id": "qlU6hRIL6221"
      },
      "source": [
        "### Explore the data"
      ]
    },
    {
      "cell_type": "code",
      "execution_count": 28,
      "metadata": {
        "id": "LSV01qss6221",
        "colab": {
          "base_uri": "https://localhost:8080/",
          "height": 445,
          "referenced_widgets": [
            "a726b48fcda24ed3b68992de888e527b",
            "dbe11d659bce42e7b88ebf80e3f39e57",
            "bc487ea25027401bab7c2732916915d0",
            "d5861c297f80464190097985aadc7580",
            "c8dc4b24841f4af4b9a59bd381e613eb"
          ]
        },
        "outputId": "b12c67a6-5f47-4e6a-a743-14884f0c809b"
      },
      "outputs": [
        {
          "output_type": "display_data",
          "data": {
            "text/plain": [
              "Dropdown(description='Plot Type:', options=('adj_photo', 'wl_spectra_corrected', 'pl_spectra_corrected'), styl…"
            ],
            "application/vnd.jupyter.widget-view+json": {
              "version_major": 2,
              "version_minor": 0,
              "model_id": "a726b48fcda24ed3b68992de888e527b"
            }
          },
          "metadata": {}
        },
        {
          "output_type": "display_data",
          "data": {
            "text/plain": [
              "Output()"
            ],
            "application/vnd.jupyter.widget-view+json": {
              "version_major": 2,
              "version_minor": 0,
              "model_id": "d5861c297f80464190097985aadc7580"
            }
          },
          "metadata": {}
        }
      ],
      "source": [
        "# Data Files\n",
        "datasets = []\n",
        "for ds in batch_datasets:\n",
        "    ds_file = os.path.basename(ds['file_to_upload'])\n",
        "    local_ds_path = os.path.join(f'crucible-downloads/{ds_file}')\n",
        "    datasets.append(local_ds_path)\n",
        "\n",
        "# Plot Options\n",
        "plot_types_available = ['adj_photo', 'wl_spectra_corrected', 'pl_spectra_corrected']\n",
        "\n",
        "\n",
        "# Create the interactive widget\n",
        "plot_type_dropdown = widgets.Dropdown(\n",
        "    options=plot_types_available,\n",
        "    value=plot_types_available[0] if plot_types_available else None,\n",
        "    description='Plot Type:',\n",
        "    style={'description_width': 'initial'}\n",
        ")\n",
        "\n",
        "output = widgets.Output()\n",
        "\n",
        "def on_plot_type_change(change):\n",
        "    display_plots_by_type(change['new'])\n",
        "\n",
        "plot_type_dropdown.observe(on_plot_type_change, names='value')\n",
        "\n",
        "display(plot_type_dropdown)\n",
        "display(output)\n",
        "\n",
        "\n",
        "display_plots_by_type(plot_types_available[0])"
      ]
    },
    {
      "cell_type": "markdown",
      "metadata": {
        "id": "DZn5ieGVUsg7"
      },
      "source": [
        "###  Part 4: Play around and see what else you can do with the API"
      ]
    },
    {
      "cell_type": "markdown",
      "metadata": {
        "id": "vjcKcCRPUsg7"
      },
      "source": [
        "#### Add a project you are working on"
      ]
    },
    {
      "cell_type": "code",
      "execution_count": null,
      "metadata": {
        "id": "-uMDP1vGUsg7"
      },
      "outputs": [],
      "source": [
        "help(client.add_project)"
      ]
    },
    {
      "cell_type": "code",
      "execution_count": null,
      "metadata": {
        "id": "6QmoASXYUsg7"
      },
      "outputs": [],
      "source": [
        "client.add_project(project_info = {\"project_id\":\"AUM_DEMO\",\n",
        "                                   \"organization\":\"Summer School\",\n",
        "                                   \"project_lead_email\":\"mkwall@lbl.gov\"})"
      ]
    },
    {
      "cell_type": "markdown",
      "metadata": {
        "id": "w6Fkb0_1Usg7"
      },
      "source": [
        "#### Add a sample"
      ]
    },
    {
      "cell_type": "code",
      "execution_count": null,
      "metadata": {
        "id": "v9L-4rdo8X8q"
      },
      "outputs": [],
      "source": [
        "sample = client.add_sample()"
      ]
    },
    {
      "cell_type": "markdown",
      "metadata": {
        "id": "THLhi7sd8a4X"
      },
      "source": [
        "#### Add a dataset from your google drive"
      ]
    },
    {
      "cell_type": "code",
      "execution_count": null,
      "metadata": {
        "id": "kngvnFsu8gvw"
      },
      "outputs": [],
      "source": [
        "# mount your google drive\n",
        "from google.colab import drive\n",
        "drive.mount('/content/drive')"
      ]
    },
    {
      "cell_type": "code",
      "execution_count": null,
      "metadata": {
        "id": "FJOrjY-nUsg7"
      },
      "outputs": [],
      "source": [
        "# choose a file\n",
        "your_file_path = \"sample_data/california_housing_train.csv\"\n",
        "\n",
        "# define some metadata you want to add to this dataset\n",
        "metadata_to_add = {'comments': 'this is a fake dataset',\n",
        "                   'weather': 'sunny',\n",
        "                   'iphone_version': 11\n",
        "                  }"
      ]
    },
    {
      "cell_type": "code",
      "execution_count": null,
      "metadata": {
        "id": "tZ1xOPQ0Usg7"
      },
      "outputs": [],
      "source": [
        "# fill out the fields and send the data to Crucible\n",
        "results = client.build_new_dataset_from_file(files_to_upload = [your_file_path],\n",
        "                                        dataset_name = None, # this will default to the file name\n",
        "                                        project_id = None, # this will default to unknown\n",
        "                                        instrument_name = None, # default is null\n",
        "                                        measurement = None, # default is null\n",
        "                                        session_name = None, # default is null\n",
        "                                        source_folder = None, # this will default to the base directory\n",
        "                                        scientific_metadata = metadata_to_add, # this is the dictionary you defined above\n",
        "                                        keywords = [], # list any keywords you want to be able to search on\n",
        "                                        ingestor = 'CrucibleDatasetIngestor', # use a generic ingestor\n",
        "                                        verbose = False,\n",
        "                                        wait_for_ingestion_response = True)\n",
        "\n",
        "ds = results['created_record']\n",
        "pprint.pprint(ds)"
      ]
    },
    {
      "cell_type": "markdown",
      "metadata": {
        "id": "0fIC3B0TUsg7"
      },
      "source": [
        "#### Associate this dataset with the sample you created"
      ]
    },
    {
      "cell_type": "code",
      "execution_count": null,
      "metadata": {
        "id": "a_pubuDVUsg7"
      },
      "outputs": [],
      "source": [
        "# define the dataset and sample\n",
        "dataset_id = ds['unique_id']\n",
        "sample_id = sample['unique_id']\n",
        "\n",
        "# link them!\n",
        "client.add_dataset_to_sample(dataset_id = dataset_id, sample_id = sample_id)"
      ]
    },
    {
      "cell_type": "code",
      "execution_count": null,
      "metadata": {
        "id": "m5UttaWSUsg8"
      },
      "outputs": [],
      "source": [
        "# see all the datasets associated with your sample\n",
        "client.list_datasets(sample_id = sample_id)"
      ]
    },
    {
      "cell_type": "markdown",
      "metadata": {
        "id": "y8K9JcCZ9sdX"
      },
      "source": [
        "#### Send your dataset from Crucible to SciCat"
      ]
    },
    {
      "cell_type": "code",
      "execution_count": null,
      "metadata": {
        "id": "jsL0L90KUsg7"
      },
      "outputs": [],
      "source": [
        "client.send_to_scicat(dsid = ds['unique_id'], wait_for_scicat_response= True)"
      ]
    },
    {
      "cell_type": "markdown",
      "metadata": {
        "id": "YVQiRWYmUsg7"
      },
      "source": [
        "Go to https://mf-scicat.lbl.gov to get a quick look at your data"
      ]
    }
  ],
  "metadata": {
    "colab": {
      "collapsed_sections": [
        "DZn5ieGVUsg7"
      ],
      "provenance": [],
      "include_colab_link": true
    },
    "kernelspec": {
      "display_name": "Python 3 (ipykernel)",
      "language": "python",
      "name": "python3"
    },
    "language_info": {
      "codemirror_mode": {
        "name": "ipython",
        "version": 3
      },
      "file_extension": ".py",
      "mimetype": "text/x-python",
      "name": "python",
      "nbconvert_exporter": "python",
      "pygments_lexer": "ipython3",
      "version": "3.12.6"
    },
    "widgets": {
      "application/vnd.jupyter.widget-state+json": {
        "54e8bbbd472d475db6ccf3f965181430": {
          "model_module": "@jupyter-widgets/controls",
          "model_name": "VBoxModel",
          "model_module_version": "1.5.0",
          "state": {
            "_dom_classes": [],
            "_model_module": "@jupyter-widgets/controls",
            "_model_module_version": "1.5.0",
            "_model_name": "VBoxModel",
            "_view_count": null,
            "_view_module": "@jupyter-widgets/controls",
            "_view_module_version": "1.5.0",
            "_view_name": "VBoxView",
            "box_style": "",
            "children": [
              "IPY_MODEL_795c9adbe1b34197a487bd266a376e4e",
              "IPY_MODEL_eca631e2b218400e86a2dbfcbe09b161",
              "IPY_MODEL_1faff46ed8a7467389591447191413cb",
              "IPY_MODEL_cd48992842cc4d0b9e9300a85d20f8e3"
            ],
            "layout": "IPY_MODEL_8769cb947305490786e27502b47863d4"
          }
        },
        "795c9adbe1b34197a487bd266a376e4e": {
          "model_module": "@jupyter-widgets/controls",
          "model_name": "HTMLModel",
          "model_module_version": "1.5.0",
          "state": {
            "_dom_classes": [],
            "_model_module": "@jupyter-widgets/controls",
            "_model_module_version": "1.5.0",
            "_model_name": "HTMLModel",
            "_view_count": null,
            "_view_module": "@jupyter-widgets/controls",
            "_view_module_version": "1.5.0",
            "_view_name": "HTMLView",
            "description": "",
            "description_tooltip": null,
            "layout": "IPY_MODEL_d988c9bfe0564b3aa297558408d85674",
            "placeholder": "​",
            "style": "IPY_MODEL_c61fde4dbdf74ac7becd20dd101e3def",
            "value": "<b>Enter your API key:</b>"
          }
        },
        "eca631e2b218400e86a2dbfcbe09b161": {
          "model_module": "@jupyter-widgets/controls",
          "model_name": "PasswordModel",
          "model_module_version": "1.5.0",
          "state": {
            "_dom_classes": [],
            "_model_module": "@jupyter-widgets/controls",
            "_model_module_version": "1.5.0",
            "_model_name": "PasswordModel",
            "_view_count": null,
            "_view_module": "@jupyter-widgets/controls",
            "_view_module_version": "1.5.0",
            "_view_name": "PasswordView",
            "continuous_update": true,
            "description": "",
            "description_tooltip": null,
            "disabled": false,
            "layout": "IPY_MODEL_19536f90bf16490e9fa9378f9803a8cf",
            "placeholder": "Enter secret here",
            "style": "IPY_MODEL_9742695da95f428389db2450b7a9d006",
            "value": ""
          }
        },
        "1faff46ed8a7467389591447191413cb": {
          "model_module": "@jupyter-widgets/controls",
          "model_name": "ButtonModel",
          "model_module_version": "1.5.0",
          "state": {
            "_dom_classes": [],
            "_model_module": "@jupyter-widgets/controls",
            "_model_module_version": "1.5.0",
            "_model_name": "ButtonModel",
            "_view_count": null,
            "_view_module": "@jupyter-widgets/controls",
            "_view_module_version": "1.5.0",
            "_view_name": "ButtonView",
            "button_style": "success",
            "description": "Store Secret",
            "disabled": false,
            "icon": "lock",
            "layout": "IPY_MODEL_5e6e2d703d1d4d42946309833430ec4a",
            "style": "IPY_MODEL_03620ee9197d48fdb235f186d6e96ba0",
            "tooltip": ""
          }
        },
        "cd48992842cc4d0b9e9300a85d20f8e3": {
          "model_module": "@jupyter-widgets/output",
          "model_name": "OutputModel",
          "model_module_version": "1.0.0",
          "state": {
            "_dom_classes": [],
            "_model_module": "@jupyter-widgets/output",
            "_model_module_version": "1.0.0",
            "_model_name": "OutputModel",
            "_view_count": null,
            "_view_module": "@jupyter-widgets/output",
            "_view_module_version": "1.0.0",
            "_view_name": "OutputView",
            "layout": "IPY_MODEL_4f1222a152584a45bda8bfd9ca575120",
            "msg_id": "",
            "outputs": [
              {
                "output_type": "stream",
                "name": "stdout",
                "text": [
                  "✓ Secret stored securely\n"
                ]
              }
            ]
          }
        },
        "8769cb947305490786e27502b47863d4": {
          "model_module": "@jupyter-widgets/base",
          "model_name": "LayoutModel",
          "model_module_version": "1.2.0",
          "state": {
            "_model_module": "@jupyter-widgets/base",
            "_model_module_version": "1.2.0",
            "_model_name": "LayoutModel",
            "_view_count": null,
            "_view_module": "@jupyter-widgets/base",
            "_view_module_version": "1.2.0",
            "_view_name": "LayoutView",
            "align_content": null,
            "align_items": null,
            "align_self": null,
            "border": null,
            "bottom": null,
            "display": null,
            "flex": null,
            "flex_flow": null,
            "grid_area": null,
            "grid_auto_columns": null,
            "grid_auto_flow": null,
            "grid_auto_rows": null,
            "grid_column": null,
            "grid_gap": null,
            "grid_row": null,
            "grid_template_areas": null,
            "grid_template_columns": null,
            "grid_template_rows": null,
            "height": null,
            "justify_content": null,
            "justify_items": null,
            "left": null,
            "margin": null,
            "max_height": null,
            "max_width": null,
            "min_height": null,
            "min_width": null,
            "object_fit": null,
            "object_position": null,
            "order": null,
            "overflow": null,
            "overflow_x": null,
            "overflow_y": null,
            "padding": null,
            "right": null,
            "top": null,
            "visibility": null,
            "width": null
          }
        },
        "d988c9bfe0564b3aa297558408d85674": {
          "model_module": "@jupyter-widgets/base",
          "model_name": "LayoutModel",
          "model_module_version": "1.2.0",
          "state": {
            "_model_module": "@jupyter-widgets/base",
            "_model_module_version": "1.2.0",
            "_model_name": "LayoutModel",
            "_view_count": null,
            "_view_module": "@jupyter-widgets/base",
            "_view_module_version": "1.2.0",
            "_view_name": "LayoutView",
            "align_content": null,
            "align_items": null,
            "align_self": null,
            "border": null,
            "bottom": null,
            "display": null,
            "flex": null,
            "flex_flow": null,
            "grid_area": null,
            "grid_auto_columns": null,
            "grid_auto_flow": null,
            "grid_auto_rows": null,
            "grid_column": null,
            "grid_gap": null,
            "grid_row": null,
            "grid_template_areas": null,
            "grid_template_columns": null,
            "grid_template_rows": null,
            "height": null,
            "justify_content": null,
            "justify_items": null,
            "left": null,
            "margin": null,
            "max_height": null,
            "max_width": null,
            "min_height": null,
            "min_width": null,
            "object_fit": null,
            "object_position": null,
            "order": null,
            "overflow": null,
            "overflow_x": null,
            "overflow_y": null,
            "padding": null,
            "right": null,
            "top": null,
            "visibility": null,
            "width": null
          }
        },
        "c61fde4dbdf74ac7becd20dd101e3def": {
          "model_module": "@jupyter-widgets/controls",
          "model_name": "DescriptionStyleModel",
          "model_module_version": "1.5.0",
          "state": {
            "_model_module": "@jupyter-widgets/controls",
            "_model_module_version": "1.5.0",
            "_model_name": "DescriptionStyleModel",
            "_view_count": null,
            "_view_module": "@jupyter-widgets/base",
            "_view_module_version": "1.2.0",
            "_view_name": "StyleView",
            "description_width": ""
          }
        },
        "19536f90bf16490e9fa9378f9803a8cf": {
          "model_module": "@jupyter-widgets/base",
          "model_name": "LayoutModel",
          "model_module_version": "1.2.0",
          "state": {
            "_model_module": "@jupyter-widgets/base",
            "_model_module_version": "1.2.0",
            "_model_name": "LayoutModel",
            "_view_count": null,
            "_view_module": "@jupyter-widgets/base",
            "_view_module_version": "1.2.0",
            "_view_name": "LayoutView",
            "align_content": null,
            "align_items": null,
            "align_self": null,
            "border": null,
            "bottom": null,
            "display": "none",
            "flex": null,
            "flex_flow": null,
            "grid_area": null,
            "grid_auto_columns": null,
            "grid_auto_flow": null,
            "grid_auto_rows": null,
            "grid_column": null,
            "grid_gap": null,
            "grid_row": null,
            "grid_template_areas": null,
            "grid_template_columns": null,
            "grid_template_rows": null,
            "height": null,
            "justify_content": null,
            "justify_items": null,
            "left": null,
            "margin": null,
            "max_height": null,
            "max_width": null,
            "min_height": null,
            "min_width": null,
            "object_fit": null,
            "object_position": null,
            "order": null,
            "overflow": null,
            "overflow_x": null,
            "overflow_y": null,
            "padding": null,
            "right": null,
            "top": null,
            "visibility": null,
            "width": null
          }
        },
        "9742695da95f428389db2450b7a9d006": {
          "model_module": "@jupyter-widgets/controls",
          "model_name": "DescriptionStyleModel",
          "model_module_version": "1.5.0",
          "state": {
            "_model_module": "@jupyter-widgets/controls",
            "_model_module_version": "1.5.0",
            "_model_name": "DescriptionStyleModel",
            "_view_count": null,
            "_view_module": "@jupyter-widgets/base",
            "_view_module_version": "1.2.0",
            "_view_name": "StyleView",
            "description_width": "initial"
          }
        },
        "5e6e2d703d1d4d42946309833430ec4a": {
          "model_module": "@jupyter-widgets/base",
          "model_name": "LayoutModel",
          "model_module_version": "1.2.0",
          "state": {
            "_model_module": "@jupyter-widgets/base",
            "_model_module_version": "1.2.0",
            "_model_name": "LayoutModel",
            "_view_count": null,
            "_view_module": "@jupyter-widgets/base",
            "_view_module_version": "1.2.0",
            "_view_name": "LayoutView",
            "align_content": null,
            "align_items": null,
            "align_self": null,
            "border": null,
            "bottom": null,
            "display": "none",
            "flex": null,
            "flex_flow": null,
            "grid_area": null,
            "grid_auto_columns": null,
            "grid_auto_flow": null,
            "grid_auto_rows": null,
            "grid_column": null,
            "grid_gap": null,
            "grid_row": null,
            "grid_template_areas": null,
            "grid_template_columns": null,
            "grid_template_rows": null,
            "height": null,
            "justify_content": null,
            "justify_items": null,
            "left": null,
            "margin": null,
            "max_height": null,
            "max_width": null,
            "min_height": null,
            "min_width": null,
            "object_fit": null,
            "object_position": null,
            "order": null,
            "overflow": null,
            "overflow_x": null,
            "overflow_y": null,
            "padding": null,
            "right": null,
            "top": null,
            "visibility": null,
            "width": null
          }
        },
        "03620ee9197d48fdb235f186d6e96ba0": {
          "model_module": "@jupyter-widgets/controls",
          "model_name": "ButtonStyleModel",
          "model_module_version": "1.5.0",
          "state": {
            "_model_module": "@jupyter-widgets/controls",
            "_model_module_version": "1.5.0",
            "_model_name": "ButtonStyleModel",
            "_view_count": null,
            "_view_module": "@jupyter-widgets/base",
            "_view_module_version": "1.2.0",
            "_view_name": "StyleView",
            "button_color": null,
            "font_weight": ""
          }
        },
        "4f1222a152584a45bda8bfd9ca575120": {
          "model_module": "@jupyter-widgets/base",
          "model_name": "LayoutModel",
          "model_module_version": "1.2.0",
          "state": {
            "_model_module": "@jupyter-widgets/base",
            "_model_module_version": "1.2.0",
            "_model_name": "LayoutModel",
            "_view_count": null,
            "_view_module": "@jupyter-widgets/base",
            "_view_module_version": "1.2.0",
            "_view_name": "LayoutView",
            "align_content": null,
            "align_items": null,
            "align_self": null,
            "border": null,
            "bottom": null,
            "display": null,
            "flex": null,
            "flex_flow": null,
            "grid_area": null,
            "grid_auto_columns": null,
            "grid_auto_flow": null,
            "grid_auto_rows": null,
            "grid_column": null,
            "grid_gap": null,
            "grid_row": null,
            "grid_template_areas": null,
            "grid_template_columns": null,
            "grid_template_rows": null,
            "height": null,
            "justify_content": null,
            "justify_items": null,
            "left": null,
            "margin": null,
            "max_height": null,
            "max_width": null,
            "min_height": null,
            "min_width": null,
            "object_fit": null,
            "object_position": null,
            "order": null,
            "overflow": null,
            "overflow_x": null,
            "overflow_y": null,
            "padding": null,
            "right": null,
            "top": null,
            "visibility": null,
            "width": null
          }
        },
        "a726b48fcda24ed3b68992de888e527b": {
          "model_module": "@jupyter-widgets/controls",
          "model_name": "DropdownModel",
          "model_module_version": "1.5.0",
          "state": {
            "_dom_classes": [],
            "_model_module": "@jupyter-widgets/controls",
            "_model_module_version": "1.5.0",
            "_model_name": "DropdownModel",
            "_options_labels": [
              "adj_photo",
              "wl_spectra_corrected",
              "pl_spectra_corrected"
            ],
            "_view_count": null,
            "_view_module": "@jupyter-widgets/controls",
            "_view_module_version": "1.5.0",
            "_view_name": "DropdownView",
            "description": "Plot Type:",
            "description_tooltip": null,
            "disabled": false,
            "index": 2,
            "layout": "IPY_MODEL_dbe11d659bce42e7b88ebf80e3f39e57",
            "style": "IPY_MODEL_bc487ea25027401bab7c2732916915d0"
          }
        },
        "dbe11d659bce42e7b88ebf80e3f39e57": {
          "model_module": "@jupyter-widgets/base",
          "model_name": "LayoutModel",
          "model_module_version": "1.2.0",
          "state": {
            "_model_module": "@jupyter-widgets/base",
            "_model_module_version": "1.2.0",
            "_model_name": "LayoutModel",
            "_view_count": null,
            "_view_module": "@jupyter-widgets/base",
            "_view_module_version": "1.2.0",
            "_view_name": "LayoutView",
            "align_content": null,
            "align_items": null,
            "align_self": null,
            "border": null,
            "bottom": null,
            "display": null,
            "flex": null,
            "flex_flow": null,
            "grid_area": null,
            "grid_auto_columns": null,
            "grid_auto_flow": null,
            "grid_auto_rows": null,
            "grid_column": null,
            "grid_gap": null,
            "grid_row": null,
            "grid_template_areas": null,
            "grid_template_columns": null,
            "grid_template_rows": null,
            "height": null,
            "justify_content": null,
            "justify_items": null,
            "left": null,
            "margin": null,
            "max_height": null,
            "max_width": null,
            "min_height": null,
            "min_width": null,
            "object_fit": null,
            "object_position": null,
            "order": null,
            "overflow": null,
            "overflow_x": null,
            "overflow_y": null,
            "padding": null,
            "right": null,
            "top": null,
            "visibility": null,
            "width": null
          }
        },
        "bc487ea25027401bab7c2732916915d0": {
          "model_module": "@jupyter-widgets/controls",
          "model_name": "DescriptionStyleModel",
          "model_module_version": "1.5.0",
          "state": {
            "_model_module": "@jupyter-widgets/controls",
            "_model_module_version": "1.5.0",
            "_model_name": "DescriptionStyleModel",
            "_view_count": null,
            "_view_module": "@jupyter-widgets/base",
            "_view_module_version": "1.2.0",
            "_view_name": "StyleView",
            "description_width": "initial"
          }
        },
        "d5861c297f80464190097985aadc7580": {
          "model_module": "@jupyter-widgets/output",
          "model_name": "OutputModel",
          "model_module_version": "1.0.0",
          "state": {
            "_dom_classes": [],
            "_model_module": "@jupyter-widgets/output",
            "_model_module_version": "1.0.0",
            "_model_name": "OutputModel",
            "_view_count": null,
            "_view_module": "@jupyter-widgets/output",
            "_view_module_version": "1.0.0",
            "_view_name": "OutputView",
            "layout": "IPY_MODEL_c8dc4b24841f4af4b9a59bd381e613eb",
            "msg_id": "",
            "outputs": [
              {
                "output_type": "display_data",
                "data": {
                  "text/plain": "<Figure size 1000x400 with 2 Axes>",
                  "image/png": "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\n"
                },
                "metadata": {}
              }
            ]
          }
        },
        "c8dc4b24841f4af4b9a59bd381e613eb": {
          "model_module": "@jupyter-widgets/base",
          "model_name": "LayoutModel",
          "model_module_version": "1.2.0",
          "state": {
            "_model_module": "@jupyter-widgets/base",
            "_model_module_version": "1.2.0",
            "_model_name": "LayoutModel",
            "_view_count": null,
            "_view_module": "@jupyter-widgets/base",
            "_view_module_version": "1.2.0",
            "_view_name": "LayoutView",
            "align_content": null,
            "align_items": null,
            "align_self": null,
            "border": null,
            "bottom": null,
            "display": null,
            "flex": null,
            "flex_flow": null,
            "grid_area": null,
            "grid_auto_columns": null,
            "grid_auto_flow": null,
            "grid_auto_rows": null,
            "grid_column": null,
            "grid_gap": null,
            "grid_row": null,
            "grid_template_areas": null,
            "grid_template_columns": null,
            "grid_template_rows": null,
            "height": null,
            "justify_content": null,
            "justify_items": null,
            "left": null,
            "margin": null,
            "max_height": null,
            "max_width": null,
            "min_height": null,
            "min_width": null,
            "object_fit": null,
            "object_position": null,
            "order": null,
            "overflow": null,
            "overflow_x": null,
            "overflow_y": null,
            "padding": null,
            "right": null,
            "top": null,
            "visibility": null,
            "width": null
          }
        }
      }
    }
  },
  "nbformat": 4,
  "nbformat_minor": 0
}